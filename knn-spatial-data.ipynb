{
 "cells": [
  {
   "cell_type": "markdown",
   "metadata": {},
   "source": [
    "# Exercise 2 | TKO_7092 Evaluation of Machine Learning Methods 2025\n",
    "## deadline: 12.2.2025 - 23:59\n",
    "\n",
    "Regarding any questions about this exercise, please contact course assistant Jonne Pohjankukka (jjepoh@utu.fi)\n",
    "\n",
    "********************************************\n",
    "\n",
    "Student name: Mst Ayesha Sultana\n",
    "\n",
    "********************************************"
   ]
  },
  {
   "cell_type": "markdown",
   "metadata": {},
   "source": [
    "## Water permeability prediction in forestry <br>\n",
    "\n",
    "In this task, the client wants you to estimate the spatial prediction performance of K-nearest neighbor regression model with K=7 (7NN), using spatial leave-one-out cross-validation (i.e. SKCV, with number of folds == number of data points). The client wants you to use the C-index as the performance measure.  \n",
    "\n",
    "In other words, the client wants you to answer the question: \"What happens to the prediction performance of water permeability using 7-nearest neighbor regression model, when the geographical distance between known data and unknown data increases?\".\n",
    "\n",
    "In this task, you have three data files available (with 1691 data points): \n",
    "\n",
    "- input.csv, contains the 75 predictor features. \n",
    "- output.csv, contains the water permebility values. \n",
    "- coordinates.csv, contains the corresponding geographical coordinate locations of the data points. The unit of the coordinates is metre, and you can use Euclidean distance to calculate distances between the coordinate points. \n",
    "\n",
    "Implement the following tasks to complete this exercise:\n",
    "\n",
    "********************************************\n",
    "\n",
    "#### 1. Z-score standardize the predictor features (input.csv). \n",
    "\n",
    "#### 2. Perform spatial leave-one-out cross-validation with 7NN model for the provided data set (refer to the lectures 3.1.3 and 3.1.4 in 'Evaluating spatial models with spatial cross-validation' for help). Estimate the water permeability prediction performance (using 7NN model and C-index) with the following distance parameter values: d = 0, 20, 40, ..., 300 (that is, 20 meter intervals from 0m to 300m). \n",
    "\n",
    "#### 3. When you have calculated the C-index performance measure for each value of d, visualize the results with the C-index (y-axis) as a function of d (x-axis).\n",
    "\n",
    "********************************************\n",
    "\n",
    "Your .ipynb-file must include the following: \n",
    "\n",
    "- Your own implementation of the spatial leave-one-out cross-validation for the current task. You can use third-party libraries (e.g. Scikit-learn) if you want for implementing e.g. the 7-nearest neighbor. Also, try to follow good programming practices and add comments to relevant parts of your code explaining what you are doing and why.\n",
    "\n",
    "\n",
    "- Plot of the graph C-index vs. distance parameter value. \n",
    "\n",
    "\n",
    "<br><br><br>\n",
    "-- START IMPLEMENTING YOUR EXERCISE AFTER THIS LINE --\n",
    "<br><br><br>"
   ]
  },
  {
   "cell_type": "markdown",
   "metadata": {},
   "source": [
    "### Import necessary libraries"
   ]
  },
  {
   "cell_type": "code",
   "execution_count": 1,
   "metadata": {},
   "outputs": [],
   "source": [
    "# In this cell, import all the libraries that you need. For example: \n",
    "import numpy as np\n",
    "import pandas as pd\n",
    "from sklearn.neighbors import KNeighborsRegressor\n",
    "from sklearn.preprocessing import StandardScaler\n",
    "import matplotlib.pyplot as plt"
   ]
  },
  {
   "cell_type": "markdown",
   "metadata": {},
   "source": [
    "### Read in the datasets"
   ]
  },
  {
   "cell_type": "code",
   "execution_count": 3,
   "metadata": {
    "scrolled": true
   },
   "outputs": [
    {
     "name": "stdout",
     "output_type": "stream",
     "text": [
      "Input data dimension: (1691, 75)\n",
      "Output data dimension: (1691, 1)\n",
      "Coordinates dimension: (1691, 2)\n"
     ]
    }
   ],
   "source": [
    "# In this cell, read the files input.csv, output.csv and coordinates.csv.\n",
    "# Print out the dataset dimesions (i.e. number of rows and columns).\n",
    "\n",
    "# Given csv files do't have a header, setting header=None ensures that pandas treats all rows as data.\n",
    "input_data = pd.read_csv('input.csv', header=None)\n",
    "output_data = pd.read_csv('output.csv', header=None)\n",
    "coordinates = pd.read_csv('coordinates.csv', header=None)\n",
    "\n",
    "# Print out the dataset dimensions\n",
    "print(\"Input data dimension:\", input_data.shape)\n",
    "print(\"Output data dimension:\", output_data.shape)\n",
    "print(\"Coordinates dimension:\", coordinates.shape)"
   ]
  },
  {
   "cell_type": "markdown",
   "metadata": {},
   "source": [
    "### Standardization of the predictor features (input.csv)"
   ]
  },
  {
   "cell_type": "code",
   "execution_count": 7,
   "metadata": {},
   "outputs": [],
   "source": [
    "# Standardize the predictor features (input.csv) by removing the mean and scaling to unit variance. \n",
    "# In other words, z-score the predictor features. You are allowed to use third-party libraries for doing this. \n",
    "\n",
    "scaler = StandardScaler()\n",
    "input_data_standardized = scaler.fit_transform(input_data)\n"
   ]
  },
  {
   "cell_type": "markdown",
   "metadata": {},
   "source": [
    "### Functions and analysis code"
   ]
  },
  {
   "cell_type": "code",
   "execution_count": 10,
   "metadata": {},
   "outputs": [],
   "source": [
    "# Include here all the functions and other relevant code that you need in order to implement the task.\n",
    "\n",
    "# Note! Utilize the following two functions in your implementation:\n",
    "\n",
    "### Function for calculating C-index ###\n",
    "# y: array containing true label values.\n",
    "# yp: array containing the predicted label values.\n",
    "def cindex(y, yp):\n",
    "    n = 0\n",
    "    h_num = 0 \n",
    "    for i in range(0, len(y)):\n",
    "        t = y[i]\n",
    "        p = yp[i]\n",
    "        for j in range(i+1, len(y)):\n",
    "            nt = y[j]\n",
    "            np = yp[j]\n",
    "            if (t != nt): \n",
    "                n = n + 1\n",
    "                if (p < np and t < nt) or (p > np and t > nt): \n",
    "                    h_num += 1\n",
    "                elif (p == np):\n",
    "                    h_num += 0.5\n",
    "    return h_num/n\n",
    "\n",
    "\n",
    "### Function for calculating the pairwise spatial distances between the data points ###\n",
    "# The function will return a n-by-n matrix of Euclidean distances. For example, the\n",
    "# distance_matrix element at indices i,j will contain the spatial distance between \n",
    "# data point i and j. Note that the element value is 0 always when i==j.\n",
    "# coordinate_array: n-by-2 array containing the coordinates of the exercise data points.\n",
    "def cdists(coordinate_array):\n",
    "    number_of_observations = coordinate_array.shape[0]\n",
    "    distance_matrix = np.zeros((number_of_observations, number_of_observations))\n",
    "    for i in range(0, number_of_observations):\n",
    "        distance_matrix[i, :] = np.sqrt(np.sum((coordinate_array - coordinate_array[i])**2, axis=1))\n",
    "    return distance_matrix"
   ]
  },
  {
   "cell_type": "markdown",
   "metadata": {},
   "source": [
    "### Results for spatial leave-one-out cross-validation with 7-nearest neighbor regression model"
   ]
  },
  {
   "cell_type": "code",
   "execution_count": 13,
   "metadata": {},
   "outputs": [
    {
     "name": "stdout",
     "output_type": "stream",
     "text": [
      "Dimension of distance matrix: (1691, 1691)\n"
     ]
    }
   ],
   "source": [
    "# Calculate the distance matrix\n",
    "distance_matrix = cdists(coordinates.values) # returns a 2D array of size 1691*1691, as we have 1691 data points in total\n",
    "\n",
    "print(\"Dimension of distance matrix:\", distance_matrix.shape)"
   ]
  },
  {
   "cell_type": "code",
   "execution_count": 15,
   "metadata": {},
   "outputs": [],
   "source": [
    "# generate distance parameter values, distance_values = 0, 20, 40, ..., 300 (that is, 20 meter intervals from 0m to 300m).\n",
    "distance_values = range(0, 301, 20)"
   ]
  },
  {
   "cell_type": "code",
   "execution_count": 17,
   "metadata": {},
   "outputs": [
    {
     "name": "stdout",
     "output_type": "stream",
     "text": [
      "C-index values for each distance: [0.7143865081776044, 0.7061014602515088, 0.7003135110012333, 0.6916410365531849, 0.6846337611940716, 0.6809306356034824, 0.6148976872001557, 0.5978313214219219, 0.5933417934873146, 0.5913007171765391, 0.5876374891681564, 0.5849853498877968, 0.5835563864829791, 0.5840390072361615, 0.5839214143622896, 0.5835045896218689]\n"
     ]
    }
   ],
   "source": [
    "# In this cell, run your script for the Spatial leave-One-Out cross-validation \n",
    "# with 7-nearest neighbor regression model and visualize the results as \n",
    "# requested in the task assignment.\n",
    "\n",
    "# 7-nearest neighbor regression model\n",
    "knn = KNeighborsRegressor(n_neighbors=7, metric='euclidean')\n",
    "\n",
    "# Array to save the c-index values for all distances\n",
    "c_indices = []\n",
    "\n",
    "# Estimate the water permeability prediction performance (using 7NN model and C-index)\n",
    "for d in distance_values:\n",
    "    all_y_true = []\n",
    "    all_y_pred = []\n",
    "    \n",
    "    for i in range(len(input_data_standardized)):\n",
    "        \n",
    "        # For the ith test data point, discard data points within distance d\n",
    "        # we are checking which of the current training data samples are at most d distance away geographically from the test sample i. \n",
    "        reduced_samples = distance_matrix[i] > d\n",
    "\n",
    "        # Build model using reduced training set\n",
    "        X_train = input_data_standardized[reduced_samples]\n",
    "        y_train = output_data.values[reduced_samples]\n",
    "\n",
    "        # ith data point as a test data\n",
    "        X_test = input_data_standardized[i].reshape(1, -1) \n",
    "        y_test = output_data.values[i]\n",
    "\n",
    "        #  at least 7 neighbors are required to make a valid prediction.\n",
    "        if len(X_train) >= 7:\n",
    "            knn.fit(X_train, y_train)\n",
    "            y_pred = knn.predict(X_test)\n",
    "            all_y_true.append(y_test)\n",
    "            all_y_pred.append(y_pred)\n",
    "    \n",
    "    # Compute C-index for all predictions at distance d\n",
    "    if len(all_y_true) > 0:\n",
    "        c_indices.append(cindex(all_y_true, all_y_pred))\n",
    "    else:\n",
    "        c_indices.append(np.nan)\n",
    "\n",
    "# Analysis of the results\n",
    "print(\"C-index values for each distance:\", c_indices)"
   ]
  },
  {
   "cell_type": "code",
   "execution_count": 15,
   "metadata": {},
   "outputs": [
    {
     "data": {
      "image/png": "[encoded data removed]",
      "text/plain": [
       "<Figure size 640x480 with 1 Axes>"
      ]
     },
     "metadata": {},
     "output_type": "display_data"
    }
   ],
   "source": [
    "# Visualize the results\n",
    "plt.plot(distance_values, c_indices, marker='o')\n",
    "plt.xlabel('Distance (m)')\n",
    "plt.ylabel('C-index')\n",
    "plt.title('C-index vs. Distance')\n",
    "plt.grid(True)\n",
    "plt.show()"
   ]
  },
  {
   "cell_type": "markdown",
   "metadata": {},
   "source": [
    "## Analysis of the results"
   ]
  },
  {
   "cell_type": "markdown",
   "metadata": {
    "jp-MarkdownHeadingCollapsed": true
   },
   "source": [
    "### In this cell, you need to answer the client's questions:\n",
    "\n",
    "\n",
    " 1. What happens to the 7NN performance as the prediction distance increases?\n",
    "\n",
    "    As the prediction distance increases, we observe a <b> clear decline in performance </b> based on the C-index values. The 7NN model, when predicting water permeability, becomes less accurate as it starts incorporating data points that are farther away spatially from the query point. This trend suggests that <b> spatial proximity plays a crucial role </b> in the accuracy of predictions. Neighboring data points that are spatially closer to the query point tend to have more relevant information, resulting in better prediction accuracy. As the distance grows, the relevance of the neighbors diminishes, and predictions become less reliable.\n",
    "\n",
    " 3. Do you think the results behave as was somewhat expected? Do they make sense, why?\n",
    "\n",
    "    Yes, <b> the results are consistent with expectations. </b> Spatial data typically exhibits spatial autocorrelation, meaning that observations that are geographically closer tend to be more similar. This is a fundamental assumption in many spatial modeling tasks. The closer a data point is to the query point, the more likely it is to share similar environmental or spatial characteristics, which improves the accuracy of predictions. When the distance between neighbors increases, the assumption of spatial similarity weakens, causing a drop in prediction performance. Therefore, the decline in performance as the distance increases makes perfect sense in this context, as we are dealing with spatial data where proximity is key to prediction accuracy.\n",
    "\n",
    " 3. If we require that the 7NN must have at least C-index performance of 0.68, then up to what distance should we trust the 7NN predictions, based on the results?\n",
    "\n",
    "    From the observed trend, a sharp drop in performance occurs around the 100-meter mark, where the C-index value begins to fall below 0.68. Based on this, we can confidently say that the model's predictions are reliable up to a distance of about 100 meters. Beyond this threshold, the prediction performance deteriorates, and the model's reliability becomes questionable. Therefore, to provide the client with meaningful advice, we could recommend: <b> \"You can trust the 7NN model for water permeability predictions within a 100-meter range. Beyond this range, the model’s predictive accuracy declines significantly, and we do not suggest relying on it alone for predictions after this point.\" </b>"
   ]
  }
 ],
 "metadata": {
  "kernelspec": {
   "display_name": "Python [conda env:base] *",
   "language": "python",
   "name": "conda-base-py"
  },
  "language_info": {
   "codemirror_mode": {
    "name": "ipython",
    "version": 3
   },
   "file_extension": ".py",
   "mimetype": "text/x-python",
   "name": "python",
   "nbconvert_exporter": "python",
   "pygments_lexer": "ipython3",
   "version": "3.12.7"
  },
  "toc": {
   "base_numbering": 1,
   "nav_menu": {},
   "number_sections": false,
   "sideBar": true,
   "skip_h1_title": false,
   "title_cell": "Table of Contents",
   "title_sidebar": "Contents",
   "toc_cell": false,
   "toc_position": {},
   "toc_section_display": true,
   "toc_window_display": true
  },
  "varInspector": {
   "cols": {
    "lenName": 16,
    "lenType": 16,
    "lenVar": 40
   },
   "kernels_config": {
    "python": {
     "delete_cmd_postfix": "",
     "delete_cmd_prefix": "del ",
     "library": "var_list.py",
     "varRefreshCmd": "print(var_dic_list())"
    },
    "r": {
     "delete_cmd_postfix": ") ",
     "delete_cmd_prefix": "rm(",
     "library": "var_list.r",
     "varRefreshCmd": "cat(var_dic_list()) "
    }
   },
   "types_to_exclude": [
    "module",
    "function",
    "builtin_function_or_method",
    "instance",
    "_Feature"
   ],
   "window_display": false
  }
 },
 "nbformat": 4,
 "nbformat_minor": 4
}
